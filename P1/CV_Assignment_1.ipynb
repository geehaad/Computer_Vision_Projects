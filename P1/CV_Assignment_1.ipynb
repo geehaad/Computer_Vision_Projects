{
  "cells": [
    {
      "cell_type": "markdown",
      "metadata": {
        "id": "z_ZNu05XGD9_"
      },
      "source": [
        "# ELG7186 - fall 2022 - Assignment 1\n",
        "## Due: <strong>Wednesday Oct. 12<sup>th</sup> 2022 -- 11:59pm</strong>"
      ]
    },
    {
      "cell_type": "markdown",
      "metadata": {
        "id": "mzA42PLsGD-E"
      },
      "source": [
        "The purpose of this assignment is to gain some experience working with the tools you will use throughout the course. You will learn:\n",
        "- The basics of data loading and preparation\n",
        "- Classification using the k-NN algorithm\n",
        "- Classification using a Support Vector Machine (SVM)\n",
        "- Calculation of metrics to assess the performance of your model\n",
        "\n",
        "### Submission Details\n",
        "Submit your Jupyter notebook .ipynb file using Brightspace. Do not include any other files or images as they will not be reviewed.\n",
        "<p>\n",
        "<strong>Make certain that you run all the cells in the notebook you will submit</strong> or you will loose marks.\n",
        "</p>\n",
        "<ul>\n",
        "<li>You can submit multiple times, but only the most recent submission will be saved</li>\n",
        "<li>Do not wait until the last minute to submit in case you have an unexpected issue</li>\n",
        "<li>Review the late policy in the syllabus</li>\n",
        "<li><strong>You must submit your own work</strong> and abide by the University of Ottawa policy on plagiarism and fraud</li>\n",
        "</ul>\n"
      ]
    },
    {
      "cell_type": "markdown",
      "metadata": {
        "id": "SYbojDtvGD-F"
      },
      "source": [
        "## Part 0. Dataset Preparation\n",
        "To complete the assignment you will need to download the Cifar10 dataset and devise an appropriate training set split. You may acquire the dataset using the method of your choice. Note that some sources e.g. sklearn have reduced the samples to only 1797 (this could negatively affect your results). If you use the full dataset, you are free to sample from the dataset to reduce the overal training samples. The overall accuracy is less important than your  observations and comparisons. For example classifying the full 10,000 test images might take approximately 15 minutes using k-NN.\n",
        "\n",
        "In this section:\n",
        "<ul>\n",
        "<li>Download the dataset as described above</li>\n",
        "<li>Divide the raw data into appropriate training and test sets for both the images and corresponding labels for use with the subsequent parts of the assignment.</li>\n",
        "<li>Visualize five samples of each class by plotting a grid using the matplotlib library.</li>\n",
        "</ul>\n"
      ]
    },
    {
      "cell_type": "code",
      "execution_count": null,
      "metadata": {
        "collapsed": true,
        "id": "vEXROwmR5G8U",
        "outputId": "1c3feb7c-952e-4f84-a3cf-4889684d1a8d"
      },
      "outputs": [
        {
          "name": "stdout",
          "output_type": "stream",
          "text": [
            "Requirement already satisfied: tensorflow in c:\\users\\gehad\\anaconda3\\lib\\site-packages (2.10.0)\n",
            "Requirement already satisfied: absl-py>=1.0.0 in c:\\users\\gehad\\anaconda3\\lib\\site-packages (from tensorflow) (1.2.0)\n",
            "Requirement already satisfied: protobuf<3.20,>=3.9.2 in c:\\users\\gehad\\anaconda3\\lib\\site-packages (from tensorflow) (3.19.1)\n",
            "Requirement already satisfied: keras<2.11,>=2.10.0 in c:\\users\\gehad\\anaconda3\\lib\\site-packages (from tensorflow) (2.10.0)\n",
            "Requirement already satisfied: tensorflow-estimator<2.11,>=2.10.0 in c:\\users\\gehad\\anaconda3\\lib\\site-packages (from tensorflow) (2.10.0)\n",
            "Requirement already satisfied: keras-preprocessing>=1.1.1 in c:\\users\\gehad\\anaconda3\\lib\\site-packages (from tensorflow) (1.1.2)\n",
            "Requirement already satisfied: flatbuffers>=2.0 in c:\\users\\gehad\\anaconda3\\lib\\site-packages (from tensorflow) (22.9.24)\n",
            "Requirement already satisfied: setuptools in c:\\users\\gehad\\anaconda3\\lib\\site-packages (from tensorflow) (61.2.0)\n",
            "Requirement already satisfied: gast<=0.4.0,>=0.2.1 in c:\\users\\gehad\\anaconda3\\lib\\site-packages (from tensorflow) (0.4.0)\n",
            "Requirement already satisfied: typing-extensions>=3.6.6 in c:\\users\\gehad\\anaconda3\\lib\\site-packages (from tensorflow) (4.1.1)\n",
            "Requirement already satisfied: numpy>=1.20 in c:\\users\\gehad\\anaconda3\\lib\\site-packages (from tensorflow) (1.21.5)\n",
            "Requirement already satisfied: six>=1.12.0 in c:\\users\\gehad\\anaconda3\\lib\\site-packages (from tensorflow) (1.16.0)\n",
            "Requirement already satisfied: h5py>=2.9.0 in c:\\users\\gehad\\anaconda3\\lib\\site-packages (from tensorflow) (3.6.0)\n",
            "Requirement already satisfied: grpcio<2.0,>=1.24.3 in c:\\users\\gehad\\anaconda3\\lib\\site-packages (from tensorflow) (1.42.0)\n",
            "Requirement already satisfied: wrapt>=1.11.0 in c:\\users\\gehad\\anaconda3\\lib\\site-packages (from tensorflow) (1.12.1)\n",
            "Requirement already satisfied: packaging in c:\\users\\gehad\\anaconda3\\lib\\site-packages (from tensorflow) (21.3)\n",
            "Requirement already satisfied: google-pasta>=0.1.1 in c:\\users\\gehad\\anaconda3\\lib\\site-packages (from tensorflow) (0.2.0)\n",
            "Requirement already satisfied: tensorflow-io-gcs-filesystem>=0.23.1 in c:\\users\\gehad\\anaconda3\\lib\\site-packages (from tensorflow) (0.27.0)\n",
            "Requirement already satisfied: libclang>=13.0.0 in c:\\users\\gehad\\anaconda3\\lib\\site-packages (from tensorflow) (14.0.6)\n",
            "Requirement already satisfied: termcolor>=1.1.0 in c:\\users\\gehad\\anaconda3\\lib\\site-packages (from tensorflow) (2.0.1)\n",
            "Requirement already satisfied: tensorboard<2.11,>=2.10 in c:\\users\\gehad\\anaconda3\\lib\\site-packages (from tensorflow) (2.10.1)\n",
            "Requirement already satisfied: opt-einsum>=2.3.2 in c:\\users\\gehad\\anaconda3\\lib\\site-packages (from tensorflow) (3.3.0)\n",
            "Requirement already satisfied: astunparse>=1.6.0 in c:\\users\\gehad\\anaconda3\\lib\\site-packages (from tensorflow) (1.6.3)\n",
            "Requirement already satisfied: wheel<1.0,>=0.23.0 in c:\\users\\gehad\\anaconda3\\lib\\site-packages (from astunparse>=1.6.0->tensorflow) (0.37.1)\n",
            "Requirement already satisfied: werkzeug>=1.0.1 in c:\\users\\gehad\\anaconda3\\lib\\site-packages (from tensorboard<2.11,>=2.10->tensorflow) (2.0.3)\n",
            "Requirement already satisfied: markdown>=2.6.8 in c:\\users\\gehad\\anaconda3\\lib\\site-packages (from tensorboard<2.11,>=2.10->tensorflow) (3.3.4)\n",
            "Requirement already satisfied: google-auth-oauthlib<0.5,>=0.4.1 in c:\\users\\gehad\\anaconda3\\lib\\site-packages (from tensorboard<2.11,>=2.10->tensorflow) (0.4.6)\n",
            "Requirement already satisfied: tensorboard-data-server<0.7.0,>=0.6.0 in c:\\users\\gehad\\anaconda3\\lib\\site-packages (from tensorboard<2.11,>=2.10->tensorflow) (0.6.1)\n",
            "Requirement already satisfied: tensorboard-plugin-wit>=1.6.0 in c:\\users\\gehad\\anaconda3\\lib\\site-packages (from tensorboard<2.11,>=2.10->tensorflow) (1.8.1)\n",
            "Requirement already satisfied: google-auth<3,>=1.6.3 in c:\\users\\gehad\\anaconda3\\lib\\site-packages (from tensorboard<2.11,>=2.10->tensorflow) (1.33.0)\n",
            "Requirement already satisfied: requests<3,>=2.21.0 in c:\\users\\gehad\\anaconda3\\lib\\site-packages (from tensorboard<2.11,>=2.10->tensorflow) (2.27.1)\n",
            "Requirement already satisfied: cachetools<5.0,>=2.0.0 in c:\\users\\gehad\\anaconda3\\lib\\site-packages (from google-auth<3,>=1.6.3->tensorboard<2.11,>=2.10->tensorflow) (4.2.2)\n",
            "Requirement already satisfied: pyasn1-modules>=0.2.1 in c:\\users\\gehad\\anaconda3\\lib\\site-packages (from google-auth<3,>=1.6.3->tensorboard<2.11,>=2.10->tensorflow) (0.2.8)\n",
            "Requirement already satisfied: rsa<5,>=3.1.4 in c:\\users\\gehad\\anaconda3\\lib\\site-packages (from google-auth<3,>=1.6.3->tensorboard<2.11,>=2.10->tensorflow) (4.7.2)\n",
            "Requirement already satisfied: requests-oauthlib>=0.7.0 in c:\\users\\gehad\\anaconda3\\lib\\site-packages (from google-auth-oauthlib<0.5,>=0.4.1->tensorboard<2.11,>=2.10->tensorflow) (1.3.1)\n",
            "Requirement already satisfied: pyasn1<0.5.0,>=0.4.6 in c:\\users\\gehad\\anaconda3\\lib\\site-packages (from pyasn1-modules>=0.2.1->google-auth<3,>=1.6.3->tensorboard<2.11,>=2.10->tensorflow) (0.4.8)\n",
            "Requirement already satisfied: certifi>=2017.4.17 in c:\\users\\gehad\\anaconda3\\lib\\site-packages (from requests<3,>=2.21.0->tensorboard<2.11,>=2.10->tensorflow) (2021.10.8)\n",
            "Requirement already satisfied: charset-normalizer~=2.0.0 in c:\\users\\gehad\\anaconda3\\lib\\site-packages (from requests<3,>=2.21.0->tensorboard<2.11,>=2.10->tensorflow) (2.0.4)\n",
            "Requirement already satisfied: idna<4,>=2.5 in c:\\users\\gehad\\anaconda3\\lib\\site-packages (from requests<3,>=2.21.0->tensorboard<2.11,>=2.10->tensorflow) (3.3)\n",
            "Requirement already satisfied: urllib3<1.27,>=1.21.1 in c:\\users\\gehad\\anaconda3\\lib\\site-packages (from requests<3,>=2.21.0->tensorboard<2.11,>=2.10->tensorflow) (1.26.9)\n",
            "Requirement already satisfied: oauthlib>=3.0.0 in c:\\users\\gehad\\anaconda3\\lib\\site-packages (from requests-oauthlib>=0.7.0->google-auth-oauthlib<0.5,>=0.4.1->tensorboard<2.11,>=2.10->tensorflow) (3.2.1)\n",
            "Requirement already satisfied: pyparsing!=3.0.5,>=2.0.2 in c:\\users\\gehad\\anaconda3\\lib\\site-packages (from packaging->tensorflow) (3.0.4)\n"
          ]
        }
      ],
      "source": [
        "# !pip install tensorflow"
      ]
    },
    {
      "cell_type": "code",
      "execution_count": null,
      "metadata": {
        "id": "SImbtN5N0vtX"
      },
      "outputs": [],
      "source": [
        "# import libraries\n",
        "import tensorflow as tf\n",
        "from tensorflow.keras import datasets\n",
        "import matplotlib.pyplot as plt\n",
        "import numpy as np \n",
        "import pandas as pd\n",
        "from sklearn import metrics\n",
        "from sklearn.model_selection import train_test_split\n",
        "\n",
        "import warnings\n",
        "warnings.filterwarnings('ignore')\n"
      ]
    },
    {
      "cell_type": "code",
      "execution_count": null,
      "metadata": {
        "colab": {
          "base_uri": "https://localhost:8080/"
        },
        "id": "VMrqAiA0GD-F",
        "outputId": "4ca89e60-cd01-4b7a-d115-3f959409396a"
      },
      "outputs": [
        {
          "output_type": "stream",
          "name": "stdout",
          "text": [
            "Downloading data from https://www.cs.toronto.edu/~kriz/cifar-10-python.tar.gz\n",
            "170500096/170498071 [==============================] - 4s 0us/step\n",
            "170508288/170498071 [==============================] - 4s 0us/step\n"
          ]
        }
      ],
      "source": [
        "# Load the dataset as train, test features and labels\n",
        "(X_train, y_train), (X_test, y_test) = datasets.cifar10.load_data()"
      ]
    },
    {
      "cell_type": "code",
      "execution_count": null,
      "metadata": {
        "colab": {
          "base_uri": "https://localhost:8080/"
        },
        "id": "XHgSL70J3fKn",
        "outputId": "2edd7be5-22f4-45cc-f79f-7555f8d040b7"
      },
      "outputs": [
        {
          "output_type": "execute_result",
          "data": {
            "text/plain": [
              "(50000, 32, 32, 3)"
            ]
          },
          "metadata": {},
          "execution_count": 11
        }
      ],
      "source": [
        "X_train.shape"
      ]
    },
    {
      "cell_type": "code",
      "execution_count": null,
      "metadata": {
        "colab": {
          "base_uri": "https://localhost:8080/"
        },
        "id": "cJf0mlC1e4f5",
        "outputId": "ddebfd0e-00fe-48a4-d051-00aa12c69191"
      },
      "outputs": [
        {
          "output_type": "execute_result",
          "data": {
            "text/plain": [
              "(50000, 1)"
            ]
          },
          "metadata": {},
          "execution_count": 12
        }
      ],
      "source": [
        "y_train.shape"
      ]
    },
    {
      "cell_type": "code",
      "execution_count": null,
      "metadata": {
        "colab": {
          "base_uri": "https://localhost:8080/"
        },
        "id": "OP_MGW413fq0",
        "outputId": "d69d3ebc-2118-4718-c1ae-cbaca1fea43e"
      },
      "outputs": [
        {
          "output_type": "execute_result",
          "data": {
            "text/plain": [
              "(10000, 32, 32, 3)"
            ]
          },
          "metadata": {},
          "execution_count": 13
        }
      ],
      "source": [
        "X_test.shape"
      ]
    },
    {
      "cell_type": "code",
      "execution_count": null,
      "metadata": {
        "colab": {
          "base_uri": "https://localhost:8080/"
        },
        "id": "g-JGMzHBe855",
        "outputId": "20869c00-d73e-4da4-8ea7-39da1540c679"
      },
      "outputs": [
        {
          "output_type": "execute_result",
          "data": {
            "text/plain": [
              "(10000, 1)"
            ]
          },
          "metadata": {},
          "execution_count": 14
        }
      ],
      "source": [
        "y_test.shape"
      ]
    },
    {
      "cell_type": "markdown",
      "metadata": {
        "id": "wq6qGM1IvEXr"
      },
      "source": [
        "## Visualizing 5 samples of the dataset"
      ]
    },
    {
      "cell_type": "code",
      "execution_count": null,
      "metadata": {
        "colab": {
          "base_uri": "https://localhost:8080/",
          "height": 255
        },
        "id": "n5bevIOcWm5x",
        "outputId": "67e1d410-60f8-438c-b1c4-b889f1d371c7"
      },
      "outputs": [
        {
          "output_type": "display_data",
          "data": {
            "text/plain": [
              "<Figure size 432x288 with 50 Axes>"
            ],
            "image/png": "[encoded data removed]"
          },
          "metadata": {
            "needs_background": "light"
          }
        }
      ],
      "source": [
        "# Print Grid of all calsses\n",
        "'''\n",
        "Label Classes: \n",
        "                'Plane',\n",
        "                'Car',\n",
        "                'Bird',\n",
        "                'Cat',\n",
        "                'Deer',\n",
        "                'Dog',\n",
        "                'Frog',\n",
        "                'Horse',\n",
        "                'Ship',\n",
        "                'Truck'\n",
        "'''\n",
        "\n",
        "classes = ['Plane', 'Car', 'Bird', 'Cat', 'Deer', 'Dog', 'Frog', 'Horse', 'Ship', 'Truck']\n",
        "num_classes = len(classes)\n",
        "samples_per_class = 5\n",
        "\n",
        "for j, cls in enumerate(classes):\n",
        "    idxs = np.flatnonzero(y_train == j)\n",
        "    idxs = np.random.choice(idxs, samples_per_class)\n",
        "    for i, idx in enumerate(idxs):\n",
        "        plt_idx = i * num_classes + j + 1\n",
        "        plt.subplot(samples_per_class, num_classes, plt_idx)\n",
        "        plt.imshow(X_train[idx])\n",
        "        plt.axis('off')\n",
        "        if i == 0:\n",
        "            plt.title(cls)\n",
        "plt.show()"
      ]
    },
    {
      "cell_type": "markdown",
      "metadata": {
        "id": "HXtaR72ggsxh"
      },
      "source": [
        "## Sampling the dataset with the same number of the values in each class"
      ]
    },
    {
      "cell_type": "code",
      "execution_count": null,
      "metadata": {
        "id": "5jAVTl60gsDi"
      },
      "outputs": [],
      "source": [
        "X_train_s, _, y_train_s, _ = train_test_split(\n",
        "    X_train, y_train, stratify=y_train,train_size=0.2, random_state=42)\n",
        "\n",
        "X_test_s, _, y_test_s, _ = train_test_split(\n",
        "    X_test, y_test, stratify=y_test,train_size=0.2, random_state=42)"
      ]
    },
    {
      "cell_type": "code",
      "execution_count": null,
      "metadata": {
        "colab": {
          "base_uri": "https://localhost:8080/"
        },
        "id": "ViYDEpkVg36b",
        "outputId": "e89a7b97-e50a-46d5-8344-2c0cacf07d08"
      },
      "outputs": [
        {
          "output_type": "execute_result",
          "data": {
            "text/plain": [
              "(10000, 32, 32, 3)"
            ]
          },
          "metadata": {},
          "execution_count": 17
        }
      ],
      "source": [
        "X_train_s.shape"
      ]
    },
    {
      "cell_type": "code",
      "execution_count": null,
      "metadata": {
        "colab": {
          "base_uri": "https://localhost:8080/"
        },
        "id": "tt9u8_Ldg30N",
        "outputId": "910cbc7a-1f8b-4d18-9af5-c601c80758a7"
      },
      "outputs": [
        {
          "output_type": "execute_result",
          "data": {
            "text/plain": [
              "(10000, 1)"
            ]
          },
          "metadata": {},
          "execution_count": 18
        }
      ],
      "source": [
        "y_train_s.shape"
      ]
    },
    {
      "cell_type": "code",
      "execution_count": null,
      "metadata": {
        "colab": {
          "base_uri": "https://localhost:8080/"
        },
        "id": "Rh0nwnlEi-Co",
        "outputId": "0d875b58-4062-44a1-fdc8-d3684e3b7fcc"
      },
      "outputs": [
        {
          "output_type": "execute_result",
          "data": {
            "text/plain": [
              "(array([0, 1, 2, 3, 4, 5, 6, 7, 8, 9], dtype=uint8),\n",
              " array([1000, 1000, 1000, 1000, 1000, 1000, 1000, 1000, 1000, 1000]))"
            ]
          },
          "metadata": {},
          "execution_count": 19
        }
      ],
      "source": [
        "# Check for number of unique classes in each class to ensure that the data is balanced\n",
        "np.unique(y_train_s, return_counts=True)"
      ]
    },
    {
      "cell_type": "code",
      "execution_count": null,
      "metadata": {
        "colab": {
          "base_uri": "https://localhost:8080/"
        },
        "id": "N68IJXUBg3x1",
        "outputId": "019555b5-f251-4de8-a895-895b70e413ac"
      },
      "outputs": [
        {
          "output_type": "execute_result",
          "data": {
            "text/plain": [
              "(2000, 32, 32, 3)"
            ]
          },
          "metadata": {},
          "execution_count": 20
        }
      ],
      "source": [
        "X_test_s.shape"
      ]
    },
    {
      "cell_type": "code",
      "execution_count": null,
      "metadata": {
        "colab": {
          "base_uri": "https://localhost:8080/"
        },
        "id": "m8U8Ul1Kg3k5",
        "outputId": "e78cdfab-cf11-4106-e47c-2ce5550423c5"
      },
      "outputs": [
        {
          "output_type": "execute_result",
          "data": {
            "text/plain": [
              "(2000, 1)"
            ]
          },
          "metadata": {},
          "execution_count": 21
        }
      ],
      "source": [
        "y_test_s.shape"
      ]
    },
    {
      "cell_type": "code",
      "execution_count": null,
      "metadata": {
        "colab": {
          "base_uri": "https://localhost:8080/"
        },
        "id": "AymNzJpDi61b",
        "outputId": "b8556cf7-d674-4695-fc5f-b638cd277eb3"
      },
      "outputs": [
        {
          "output_type": "execute_result",
          "data": {
            "text/plain": [
              "(array([0, 1, 2, 3, 4, 5, 6, 7, 8, 9], dtype=uint8),\n",
              " array([200, 200, 200, 200, 200, 200, 200, 200, 200, 200]))"
            ]
          },
          "metadata": {},
          "execution_count": 22
        }
      ],
      "source": [
        "np.unique(y_test_s, return_counts=True)"
      ]
    },
    {
      "cell_type": "markdown",
      "metadata": {
        "id": "xw-NlommiXg-"
      },
      "source": [
        "## Normalization"
      ]
    },
    {
      "cell_type": "code",
      "execution_count": null,
      "metadata": {
        "id": "v-DdL2F-OHUq"
      },
      "outputs": [],
      "source": [
        "# Reduce pixel values\n",
        "X_train_s = X_train_s / 255.0\n",
        "X_test_s = X_test_s / 255.0"
      ]
    },
    {
      "cell_type": "code",
      "execution_count": null,
      "metadata": {
        "id": "YEdgBjBqx3YW"
      },
      "outputs": [],
      "source": [
        "# flatten the label values\n",
        "y_train_s, y_test_s = y_train_s.flatten(), y_test_s.flatten()"
      ]
    },
    {
      "cell_type": "markdown",
      "metadata": {
        "id": "h3YWXpZS5G8S"
      },
      "source": [
        "## Conclusion"
      ]
    },
    {
      "cell_type": "markdown",
      "metadata": {
        "id": "LKJ6mtvX5G8T"
      },
      "source": [
        "* In this part I load the data from Tensorflow.keras.\n",
        "* The data contains 60000 samples, and split it into 50000 training, and 10000 testing.\n",
        "* As it takes alot to train models using this big data, I sample the data into smapler set, with the same number of values in each class.\n",
        "* I normalize the pixel values of images between 0 and 1 by dividing it by 255.\n",
        "* Also I flatten the data."
      ]
    },
    {
      "cell_type": "markdown",
      "metadata": {
        "id": "1mjF3FB5GD-G"
      },
      "source": [
        "## Part 1. k-NN Classifier (2 Marks)\n",
        "For this section you will implement a simple kNN Classifier on the Cifar10 dataset. To do this you will need to perform the following steps:\n",
        "- Create a k-NN class. Your class must contain a method that returns predictions for your test set.\n",
        "- Provide a suitable distance metric that you will use to calculate the nearest neightbours. You may choose the distance metric you believe is most suitable.\n",
        "- Calculate the k nearest neighbours and make predictions.\n",
        "- Choose the a value for _k_ that results in the highest accuracy on your test set. Show how you found this value.\n",
        "\n",
        "When your classifier is working:\n",
        "- Use sklearn to calculate accuracy and plot a confusion matrix using your predictions.\n",
        "- Provide a brief discussion of your results\n",
        "\n",
        "### Bonus:\n",
        "\n",
        "When you compute the distance metric you can acheive better performance if you vectorize the computation instead of using for loops to iterate through the values. You can earn __0.5 bonus marks__ if you only need one loop, or __1 bonus mark__ if you can omit for loops for a fully vectorized distance calculation (a maximum of 1 bonus mark is available).\n",
        "\n",
        "\n"
      ]
    },
    {
      "cell_type": "code",
      "execution_count": null,
      "metadata": {
        "id": "fu53BJqOGD-H"
      },
      "outputs": [],
      "source": [
        "# Write your KNN class here"
      ]
    },
    {
      "cell_type": "code",
      "execution_count": null,
      "metadata": {
        "id": "o69xoG-3Oxod"
      },
      "outputs": [],
      "source": [
        "# K Neares Neighbor class that returns predictions for your test set\n",
        "class KNN:\n",
        "    def __init__(self, k=3):\n",
        "        self.k = k\n",
        "\n",
        "    # euclidean distance metric\n",
        "    def _get_euclidean_distance(self, x1, x2):\n",
        "        # calculate euclidean distance for a row pair\n",
        "        sum_squared_distance = np.sum((x1 - x2)**2)\n",
        "        return np.sqrt(sum_squared_distance)\n",
        "    # Train function\n",
        "    def fit(self, X, y):\n",
        "        self.X_train = X\n",
        "        self.y_train = y\n",
        "    # Prediction\n",
        "    def predict(self, X_test):\n",
        "        # get predictions for every row in test data\n",
        "        y_pred = [self._get_single_prediction(x_test_row) for x_test_row in X_test]\n",
        "        return np.array(y_pred)\n",
        "\n",
        "    def _get_single_prediction(self, x_test_row):\n",
        "        # get distances of test_row vs all training rows\n",
        "        distances = [self._get_euclidean_distance(x_test_row, x_train_row) \n",
        "                     for x_train_row in self.X_train]\n",
        "        # get indices of k-nearest neighbors -> k-smallest distances\n",
        "        k_idx = np.argsort(distances)[:self.k]\n",
        "        # get corresponding y-labels of training data\n",
        "        k_labels = [self.y_train[idx] for idx in k_idx]\n",
        "        # return most common label\n",
        "        return np.argmax(np.bincount(k_labels))\n",
        "        \n",
        "    # Compute accuracy\n",
        "    def accuracy(self,y_true, y_pred):\n",
        "        accuracy = np.sum(y_true == y_pred) / len(y_true)\n",
        "        return accuracy"
      ]
    },
    {
      "cell_type": "code",
      "execution_count": null,
      "metadata": {
        "id": "ysCrHaH-Q8Ij"
      },
      "outputs": [],
      "source": [
        "k = 3\n",
        "clf = KNN(k=k)\n",
        "clf.fit(X_train_s ,y_train_s)\n",
        "predictions = clf.predict(X_test_s)"
      ]
    },
    {
      "cell_type": "code",
      "execution_count": null,
      "metadata": {
        "id": "Q1JR6pcOERij"
      },
      "outputs": [],
      "source": [
        "score = clf.accuracy(y_test_s, predictions)"
      ]
    },
    {
      "cell_type": "code",
      "execution_count": null,
      "metadata": {
        "colab": {
          "base_uri": "https://localhost:8080/"
        },
        "id": "mUUCZcuUDKo8",
        "outputId": "eedc4ab0-f519-4fee-ed17-9fb738cd34ab"
      },
      "outputs": [
        {
          "name": "stdout",
          "output_type": "stream",
          "text": [
            "Accuracy 26.150000000000002\n"
          ]
        }
      ],
      "source": [
        "# print accuracy \n",
        "print(\"Accuracy\",score * 100 )"
      ]
    },
    {
      "cell_type": "markdown",
      "metadata": {
        "id": "folVw7ZxyrET"
      },
      "source": [
        "## Choose best K"
      ]
    },
    {
      "cell_type": "code",
      "execution_count": null,
      "metadata": {
        "colab": {
          "base_uri": "https://localhost:8080/"
        },
        "id": "G76D6VgVQvpd",
        "outputId": "a72e68ab-7808-4d0f-f243-12402529b85b"
      },
      "outputs": [
        {
          "name": "stdout",
          "output_type": "stream",
          "text": [
            "At K=  1\n",
            "Accuracy = 0.292\n",
            "Error = 0.708\n",
            "#################################################\n",
            "At K=  3\n",
            "Accuracy = 0.2615\n",
            "Error = 0.7385\n",
            "#################################################\n",
            "At K=  5\n",
            "Accuracy = 0.279\n",
            "Error = 0.721\n",
            "#################################################\n",
            "At K=  7\n",
            "Accuracy = 0.2915\n",
            "Error = 0.7085\n",
            "#################################################\n",
            "At K=  9\n",
            "Accuracy = 0.2835\n",
            "Error = 0.7165\n",
            "#################################################\n",
            "At K=  13\n",
            "Accuracy = 0.2895\n",
            "Error = 0.7105\n",
            "#################################################\n",
            "At K=  17\n",
            "Accuracy = 0.2925\n",
            "Error = 0.7075\n",
            "#################################################\n",
            "At K=  23\n",
            "Accuracy = 0.2915\n",
            "Error = 0.7085\n",
            "#################################################\n"
          ]
        }
      ],
      "source": [
        "errors = []\n",
        "Accurs = [] \n",
        "\n",
        "for k in [1,3,5,7,9,13,17,23]:\n",
        "    Knn = KNN(k=k)\n",
        "    Knn.fit(X_train_s ,y_train_s)\n",
        "    prediction = Knn.predict(X_test_s)\n",
        "    accr = Knn.accuracy(y_test_s, prediction)\n",
        "    Accurs.append(accr)\n",
        "    error = np.mean(prediction != y_test_s)\n",
        "    errors.append(error)\n",
        "    print('At K= ', k)\n",
        "    print(\"Accuracy =\", accr)\n",
        "    print(\"Error =\", error)\n",
        "    print(\"#################################################\")\n",
        " "
      ]
    },
    {
      "cell_type": "markdown",
      "metadata": {
        "id": "-F0z-dX1OTVI"
      },
      "source": [
        "## Plot error vs. K values"
      ]
    },
    {
      "cell_type": "code",
      "execution_count": null,
      "metadata": {
        "id": "RN7-SkIBOR2J",
        "outputId": "35111e91-357f-4bb2-ed79-fd538ed361f1"
      },
      "outputs": [
        {
          "name": "stdout",
          "output_type": "stream",
          "text": [
            "Minimum Error:- 0.7075 at K = 7\n"
          ]
        },
        {
          "data": {
            "image/png": "[encoded data removed]",
            "text/plain": [
              "<Figure size 720x432 with 1 Axes>"
            ]
          },
          "metadata": {},
          "output_type": "display_data"
        }
      ],
      "source": [
        "plt.figure(figsize=(10,6))\n",
        "\n",
        "plt.plot([1,3,5,7,9,13,17,23],errors,color='blue', linestyle='dashed', \n",
        "         marker='o',markerfacecolor='red', markersize=10)\n",
        "\n",
        "plt.title('Error vs. K Value')\n",
        "plt.xlabel('K')\n",
        "plt.ylabel('Error')\n",
        "print(\"Minimum Error:-\",min(errors),\"at K =\",errors.index(min(errors))+1)   "
      ]
    },
    {
      "cell_type": "markdown",
      "metadata": {
        "id": "jh2FAooJOYEo"
      },
      "source": [
        "## Plot Acuracy vs. K values"
      ]
    },
    {
      "cell_type": "code",
      "execution_count": null,
      "metadata": {
        "id": "sgtxot5pPSrC",
        "outputId": "e3506a01-58b6-4ad6-ba3d-ed8f5e3a62d3",
        "colab": {
          "base_uri": "https://localhost:8080/",
          "height": 422
        }
      },
      "outputs": [
        {
          "output_type": "stream",
          "name": "stdout",
          "text": [
            "Maximum Accuracy:- 0.2925 at K = 17\n"
          ]
        },
        {
          "output_type": "display_data",
          "data": {
            "text/plain": [
              "<Figure size 720x432 with 1 Axes>"
            ],
            "image/png": "[encoded data removed]"
          },
          "metadata": {
            "needs_background": "light"
          }
        }
      ],
      "source": [
        "plt.figure(figsize=(10,6))\n",
        "k =[1,3,5,7,9,13,17,23]\n",
        "plt.plot([1,3,5,7,9,13,17,23],Accurs,color='blue', linestyle='dashed', \n",
        "         marker='o',markerfacecolor='red', markersize=10)\n",
        "\n",
        "plt.title('Accuracy vs. K Value')\n",
        "plt.xlabel('K')\n",
        "plt.ylabel('Accuracy')\n",
        "print(\"Maximum Accuracy:-\",max(Accurs),\"at K =\",k[Accurs.index(max(Accurs))])  "
      ]
    },
    {
      "cell_type": "markdown",
      "metadata": {
        "id": "ONhAJoMg5G8u"
      },
      "source": [
        "* I used accuracy and error to help me choice the best K value, and both said the same thiang, that K is the best value."
      ]
    },
    {
      "cell_type": "markdown",
      "metadata": {
        "id": "VPIkku1Z5G8v"
      },
      "source": [
        "## Train KNN at best K"
      ]
    },
    {
      "cell_type": "code",
      "execution_count": null,
      "metadata": {
        "id": "hDzCY7hY5G8v"
      },
      "outputs": [],
      "source": [
        "Knn = KNN(k=7)\n",
        "Knn.fit(X_train_s ,y_train_s)\n",
        "prediction = Knn.predict(X_test_s)\n",
        "accr = Knn.accuracy(y_test_s, prediction)"
      ]
    },
    {
      "cell_type": "markdown",
      "metadata": {
        "id": "5rPYAHMR5G8w"
      },
      "source": [
        "## Confusion matrix"
      ]
    },
    {
      "cell_type": "code",
      "execution_count": null,
      "metadata": {
        "id": "TAaoKDCN5G8w",
        "outputId": "757e1451-1d74-48c5-d419-e63548be6c1c"
      },
      "outputs": [
        {
          "data": {
            "image/png": "[encoded data removed]",
            "text/plain": [
              "<Figure size 432x288 with 2 Axes>"
            ]
          },
          "metadata": {},
          "output_type": "display_data"
        }
      ],
      "source": [
        "confusion_matrix = metrics.confusion_matrix(y_test_s, prediction)\n",
        "\n",
        "cm_display = metrics.ConfusionMatrixDisplay(confusion_matrix = confusion_matrix, display_labels = np.unique(y_test_s))\n",
        "\n",
        "cm_display.plot()\n",
        "plt.title('Confusion Matrix for cifar10 at K=7')\n",
        "plt.show()"
      ]
    },
    {
      "cell_type": "markdown",
      "source": [
        "* We have 200 value for each class, The confuison matrix says that the model is able to predict the class eight better than other classes as it manages to predict 138 images correctly, and managed to predict 105 imagess of 0 class colrecttly.\n",
        "* But the other classes correct predict was less than the half of the total values in a single class.\n",
        "* The class that the model was confused with the most is class 3, as it only manages to predict 21 images."
      ],
      "metadata": {
        "id": "NzaKgcGBMKD5"
      }
    },
    {
      "cell_type": "markdown",
      "metadata": {
        "id": "MQFqxkVxjJz2"
      },
      "source": [
        "##Conclusion"
      ]
    },
    {
      "cell_type": "markdown",
      "metadata": {
        "id": "VztgLVS6OZH7"
      },
      "source": [
        "* In this part I create a Knn function that take k and calculate the nearest k neighbours using euclidean distance, this distance is the most widely used distance metric and it is the default metric in SKlearn library.\n",
        "* I used a random K = 3, and calculate score, = 26.15, and predictions.\n",
        "* Then I used different values of K, to find the best value of it, using the accuracy and error rate, and plot both with the number of K and compare the values and found out that when K=7, we have the best accuracy and the less error.\n",
        "* Finally, I train my Knn model using k=7 and get the predictions and plot the confusion matrix."
      ]
    },
    {
      "cell_type": "markdown",
      "metadata": {
        "id": "AkCOKxnZGD-I"
      },
      "source": [
        "## Part 2. Logistic Regression (3 Marks)\n",
        "\n",
        "For this section you will perform binary classification using logistic regression. Just as in Part 1. you will use the Cifar10 dataset, however to obtain a result for each class using logistic regression you will need to use a One-vs-Rest (OvR) approach to acheive multi-class classification.\n",
        "\n",
        "Using ```LogisticRegression()``` in sklearn, write a function to execute the OvR strategy for the Cifar10 classes. Do not use the built-in ```OneVsResClassifier()``` method. You will need to follow these basic steps:\n",
        "- Train a binary classifier for each class, where the target class is a \"positive\" results and the combination of the remaining classes are \"negative\". For Cifar10 you will need 10 models.\n",
        "- For each test sample compute the probabilities for each model\n",
        "- Select the argmax of the probabilities to obtain the predicted class\n",
        "\n",
        "Collect your predictions from the test set and compute the accuracy score and plot a confusion matrix."
      ]
    },
    {
      "cell_type": "code",
      "execution_count": null,
      "metadata": {
        "id": "IZqjENjsGD-I"
      },
      "outputs": [],
      "source": [
        "# Write your logistic regression code here.\n",
        "from sklearn.linear_model import LogisticRegression\n",
        "from numpy import argmax\n",
        "from numpy import asarray\n",
        "from sklearn.metrics import accuracy_score\n",
        "from sklearn import metrics"
      ]
    },
    {
      "cell_type": "code",
      "execution_count": null,
      "metadata": {
        "id": "ikby4cWrXh7H"
      },
      "outputs": [],
      "source": [
        "# I had an error when running the code with the original data shape, so I have to reshape it.\n",
        "nsamples, nx, ny, nz = X_train_s.shape\n",
        "d2_train_dataset = X_train_s.reshape((nsamples,nx*ny*nz))\n",
        "nsampless, nxx, nyy, nzz = X_test_s.shape\n",
        "d2_test_dataset = X_test_s.reshape((nsampless,nxx*nyy*nzz))"
      ]
    },
    {
      "cell_type": "code",
      "execution_count": null,
      "metadata": {
        "id": "L_8nPsQlUfMN"
      },
      "outputs": [],
      "source": [
        "# OvR function to calculate the logistic regression for each class vs rest.\n",
        "def OvR(r):\n",
        "    y_train_r = [[1] if i == r else [0] for i in y_train_s ]\n",
        "    y_test_r = [[1] if i == r else [0] for i in y_test_s ]\n",
        "    LR = LogisticRegression(random_state=0, max_iter=1000).fit(d2_train_dataset, np.ravel(y_train_r,order='C'))\n",
        "    pre = LR.predict_proba(d2_test_dataset)[:,1]\n",
        "    return pre"
      ]
    },
    {
      "cell_type": "markdown",
      "metadata": {
        "id": "5eTlj24vSneL"
      },
      "source": [
        "0 VS. All"
      ]
    },
    {
      "cell_type": "code",
      "execution_count": null,
      "metadata": {
        "id": "8dqsOrckTL4N"
      },
      "outputs": [],
      "source": [
        "OVR0 = OvR(0)"
      ]
    },
    {
      "cell_type": "markdown",
      "metadata": {
        "id": "JCd7jcGqSpoi"
      },
      "source": [
        "1 VS. All"
      ]
    },
    {
      "cell_type": "code",
      "execution_count": null,
      "metadata": {
        "id": "jYgUf8n1TKa9"
      },
      "outputs": [],
      "source": [
        "OVR1 = OvR(1)"
      ]
    },
    {
      "cell_type": "markdown",
      "metadata": {
        "id": "SkclMv3ASrHy"
      },
      "source": [
        "2 VS. All\n"
      ]
    },
    {
      "cell_type": "code",
      "execution_count": null,
      "metadata": {
        "id": "9Uyp-rm3TM47"
      },
      "outputs": [],
      "source": [
        "OVR2 = OvR(2)"
      ]
    },
    {
      "cell_type": "markdown",
      "metadata": {
        "id": "ioNXiR1cSs-U"
      },
      "source": [
        "3 VS. All\n"
      ]
    },
    {
      "cell_type": "code",
      "execution_count": null,
      "metadata": {
        "id": "OGbc-B7-TOYn"
      },
      "outputs": [],
      "source": [
        "OVR3 = OvR(3)"
      ]
    },
    {
      "cell_type": "markdown",
      "metadata": {
        "id": "Y3VdNT39TDzZ"
      },
      "source": [
        "4 VS. All"
      ]
    },
    {
      "cell_type": "code",
      "execution_count": null,
      "metadata": {
        "id": "8zOfEin9TPHG"
      },
      "outputs": [],
      "source": [
        "OVR4 = OvR(4)"
      ]
    },
    {
      "cell_type": "markdown",
      "metadata": {
        "id": "aBJ5jnh4TGS2"
      },
      "source": [
        "5 VS. All"
      ]
    },
    {
      "cell_type": "code",
      "execution_count": null,
      "metadata": {
        "id": "XjD4d_KBTbHJ"
      },
      "outputs": [],
      "source": [
        "OVR5 = OvR(5)"
      ]
    },
    {
      "cell_type": "markdown",
      "metadata": {
        "id": "I20MjfPZTQwS"
      },
      "source": [
        "6 VS. All"
      ]
    },
    {
      "cell_type": "code",
      "execution_count": null,
      "metadata": {
        "id": "7bIXNWhtTbhS"
      },
      "outputs": [],
      "source": [
        "OVR6 = OvR(6)"
      ]
    },
    {
      "cell_type": "markdown",
      "metadata": {
        "id": "cC8-8Op7TSjW"
      },
      "source": [
        "7 VS. All"
      ]
    },
    {
      "cell_type": "code",
      "execution_count": null,
      "metadata": {
        "id": "FRQ7RLrATbyi"
      },
      "outputs": [],
      "source": [
        "OVR7 = OvR(7)"
      ]
    },
    {
      "cell_type": "markdown",
      "metadata": {
        "id": "agVSStz2TU3N"
      },
      "source": [
        "8 VS. All"
      ]
    },
    {
      "cell_type": "code",
      "execution_count": null,
      "metadata": {
        "id": "lJ-0qAM_TccB"
      },
      "outputs": [],
      "source": [
        "OVR8 = OvR(8)"
      ]
    },
    {
      "cell_type": "markdown",
      "metadata": {
        "id": "r0QARdLkTXG7"
      },
      "source": [
        "9 VS. All"
      ]
    },
    {
      "cell_type": "code",
      "execution_count": null,
      "metadata": {
        "id": "7cIoNMJlC70f"
      },
      "outputs": [],
      "source": [
        "OVR9 = OvR(9)"
      ]
    },
    {
      "cell_type": "code",
      "execution_count": null,
      "metadata": {
        "colab": {
          "base_uri": "https://localhost:8080/"
        },
        "id": "5ysvZo31mMgU",
        "outputId": "cf1af236-a23f-4435-8f89-d1517ec27706"
      },
      "outputs": [
        {
          "data": {
            "text/plain": [
              "(10, 2000)"
            ]
          },
          "execution_count": 87,
          "metadata": {},
          "output_type": "execute_result"
        }
      ],
      "source": [
        "# Array of all probabilities\n",
        "probs = asarray([OVR0, OVR1,OVR2, OVR3, OVR4,OVR5,OVR6,OVR7,OVR8,OVR9])\n",
        "probs.shape"
      ]
    },
    {
      "cell_type": "markdown",
      "metadata": {
        "id": "iipg819fl68H"
      },
      "source": [
        "### Argmax probabilities"
      ]
    },
    {
      "cell_type": "code",
      "execution_count": null,
      "metadata": {
        "id": "4mNnElPTlzXE"
      },
      "outputs": [],
      "source": [
        "result = argmax(probs, axis=0)"
      ]
    },
    {
      "cell_type": "code",
      "execution_count": null,
      "metadata": {
        "colab": {
          "base_uri": "https://localhost:8080/"
        },
        "id": "QdQi9915m32m",
        "outputId": "6e7ed20c-4ee6-4f7c-e4f3-03ff444b11c7"
      },
      "outputs": [
        {
          "data": {
            "text/plain": [
              "array([6, 6, 7, ..., 9, 5, 6], dtype=int64)"
            ]
          },
          "execution_count": 89,
          "metadata": {},
          "output_type": "execute_result"
        }
      ],
      "source": [
        "# The predicted classes\n",
        "result"
      ]
    },
    {
      "cell_type": "code",
      "execution_count": null,
      "metadata": {
        "colab": {
          "base_uri": "https://localhost:8080/"
        },
        "id": "Q9Lo9pQNfd7s",
        "outputId": "50dbb9fd-ee67-495c-a4a3-7671a9e361c9"
      },
      "outputs": [
        {
          "data": {
            "text/plain": [
              "0.2845"
            ]
          },
          "execution_count": 90,
          "metadata": {},
          "output_type": "execute_result"
        }
      ],
      "source": [
        "# The accuracy of argmax\n",
        "accuracy_score(y_test_s, result)"
      ]
    },
    {
      "cell_type": "markdown",
      "metadata": {
        "id": "e0dyvikagLxo"
      },
      "source": [
        "## Confiuson matrix"
      ]
    },
    {
      "cell_type": "code",
      "execution_count": null,
      "metadata": {
        "colab": {
          "base_uri": "https://localhost:8080/",
          "height": 279
        },
        "id": "mzPS22ZUgLmn",
        "outputId": "df310595-c2cb-4f74-8d2c-4b520b0b69fe"
      },
      "outputs": [
        {
          "data": {
            "image/png": "[encoded data removed]",
            "text/plain": [
              "<Figure size 432x288 with 2 Axes>"
            ]
          },
          "metadata": {},
          "output_type": "display_data"
        }
      ],
      "source": [
        "confusion_matrix = metrics.confusion_matrix(y_test_s, result)\n",
        "\n",
        "cm_display = metrics.ConfusionMatrixDisplay(confusion_matrix = confusion_matrix, display_labels = np.unique(y_test_s))\n",
        "\n",
        "cm_display.plot()\n",
        "plt.title('Confusion Matrix for cifar10')\n",
        "plt.show()"
      ]
    },
    {
      "cell_type": "markdown",
      "source": [
        "* We have 200 value for each class, The confuison matrix says that the model is able to predict the class six better than other classes as it manages to predict 128 images correctly, and managed to predict 113  Imagess of 0 class colrecttly, like the previous model it made a good performance with this class, and is better with class 9 than the last model with 101 corect predictions.\n",
        "\n",
        "* But the other classes correct predict was less than the half of the total values in a single class.\n",
        "\n",
        "* The classes that the model was confused with the most is class 2, as it only manages to predict 4 images."
      ],
      "metadata": {
        "id": "sG_Z2CdqWF_C"
      }
    },
    {
      "cell_type": "markdown",
      "metadata": {
        "id": "IEpeiHYOne8i"
      },
      "source": [
        "## Conclusion"
      ]
    },
    {
      "cell_type": "markdown",
      "metadata": {
        "id": "rlsA61NjnjBH"
      },
      "source": [
        "* In this part I use Logistic Regression model from Sklearn library, and as logistic regression is binary classification and our problem is muliclass classification, we need to use OvR.\n",
        "* In OvR part, I made the label of the class I want to predict = 1 and other classses = 0, and use Logistic regression to predict the output and calculate the probabilities, and finally we have 10 models.\n",
        "* Then I get the argmax of these 10 models, and compare its predictions with the true predictions and plot the confusion matrix.\n",
        "\n"
      ]
    },
    {
      "cell_type": "markdown",
      "metadata": {
        "id": "J9VRU5gtGD-J"
      },
      "source": [
        "## Part 3. Support Vector Machine (SVM) Classification (4 Marks)\n",
        "\n",
        "In Part 3. you will use Scikit-learn to perform classification, again on the Cifar10 dataset. You can use the built in SVM library for classification. As with logistic regression, SVM is designed for binary classification. However, in this case Scikit-learn will handle the OvR models behind the scenes.\n",
        "\n",
        "Your task is to compare different modes of the SVM and determine the best performer. \n",
        "\n",
        "Create an SVM baseline using the <code>LinearSVC()</code> function. Make sure to use the primal solution and use \"ovr\" for multiclass Calculate the accuracy score for comparison.\n",
        "\n",
        "Next you will explore the effect of the cost parameter on the accuracy.\n",
        "    <ul>\n",
        "    <li>Run the classification with a range of C values For example: [0.0001, 0.001, 0.01, 0.1, 1, 10, 100, 1000 ]</li>\n",
        "    <li>Plot the results as an accuracy vs. C-parameter curve on a logarithmic scale.</li>\n",
        "    </ul>\n",
        "\n",
        "Add a regularization term.\n",
        "    <ul>\n",
        "    <li>Rerun the above experiment, but this time use L1 regularization.</li>\n",
        "    <li>Again, plot the results as an accuracy vs. C-parameter curve on a logarithmic scale.</li>\n",
        "    </ul>\n",
        "\n",
        "For the final experiment you will use the ```SVC()``` function to run the classifer with a kernel.\n",
        "    <ul>\n",
        "    <li>Use a radial basis function when training a new model</li>\n",
        "    <li>Find the optimal combination of values for the cost and gamma parameters. Use the following values in your loop:<br/>\n",
        "        <div style=\"margin-left:40px\"><code>\n",
        "        for cost in [0.01, 0.1, 1, 10, 100]:<br/>\n",
        "        &emsp;for gamma in [0.01, 0.1, 1, 10, 100]:\n",
        "        </code></div>\n",
        "    </li>\n",
        "    <li>Again, plot the results as an accuracy vs. C-parameter curve on a logarithmic scale.</li>\n",
        "    </ul>\n",
        "\n",
        "\n",
        "Choose the model with the highest accuracy and plot the confusion matrix. In your discussion explain the results of your experiments and the reason for increased performance from the baseline (if any). Comment on the effect of the cost-paramenter and the L1 penalty on accuracy as well as any overfitting you observed. Discuss the confusion matrix of the model accuracy and provide some reasons for high-values found off the main diagonal.\n",
        "\n",
        "### Bonus Mark\n",
        "Instead of using raw pixel values compute an alternate feature representation for your dataset and re-run train the model. Compare the accuracy of the model using the new feature representation with the model trained with pixel values."
      ]
    },
    {
      "cell_type": "code",
      "execution_count": null,
      "metadata": {
        "id": "VxlWoTg7GD-J"
      },
      "outputs": [],
      "source": [
        "# Run your SVM experiments here.\n",
        "from sklearn import svm"
      ]
    },
    {
      "cell_type": "markdown",
      "metadata": {
        "id": "VHMe6wFL5G89"
      },
      "source": [
        "## SVM Baseline with LinearSVC"
      ]
    },
    {
      "cell_type": "code",
      "execution_count": null,
      "metadata": {
        "colab": {
          "background_save": true
        },
        "id": "neMbKpYS5G8-"
      },
      "outputs": [],
      "source": [
        "base_clf = svm.LinearSVC(multi_class='ovr', dual = False)\n",
        "base_clf.fit(d2_train_dataset, np.ravel(y_train_s,order='C'))\n",
        "pre_svm = base_clf.predict(d2_test_dataset)\n",
        "accr_svm = base_clf.score(d2_test_dataset, np.ravel(y_test_s,order='C'))"
      ]
    },
    {
      "cell_type": "code",
      "execution_count": null,
      "metadata": {
        "colab": {
          "base_uri": "https://localhost:8080/"
        },
        "id": "rtyNiT9-HSYf",
        "outputId": "e71397c6-b628-4097-9235-3efbe998a954"
      },
      "outputs": [
        {
          "data": {
            "text/plain": [
              "0.2815"
            ]
          },
          "execution_count": 57,
          "metadata": {},
          "output_type": "execute_result"
        }
      ],
      "source": [
        "accr_svm"
      ]
    },
    {
      "cell_type": "markdown",
      "metadata": {
        "id": "Rky46aXE5G8-"
      },
      "source": [
        "## Different cost patameter values"
      ]
    },
    {
      "cell_type": "code",
      "execution_count": null,
      "metadata": {
        "colab": {
          "base_uri": "https://localhost:8080/"
        },
        "id": "0gRuAEC4OZgR",
        "outputId": "1de665ca-5c14-4f5d-b186-bda99d533f62"
      },
      "outputs": [
        {
          "name": "stdout",
          "output_type": "stream",
          "text": [
            "At C=  0.0001\n",
            "Accuracy = 0.158\n",
            "At C=  0.001\n",
            "Accuracy = 0.2425\n",
            "At C=  0.01\n",
            "Accuracy = 0.255\n",
            "At C=  0.1\n",
            "Accuracy = 0.2915\n",
            "At C=  1\n",
            "Accuracy = 0.3405\n",
            "At C=  10\n",
            "Accuracy = 0.369\n",
            "At C=  100\n",
            "Accuracy = 0.3785\n",
            "At C=  1000\n",
            "Accuracy = 0.359\n"
          ]
        }
      ],
      "source": [
        "Accurs_svm = []\n",
        "Cs = [0.0001, 0.001, 0.01, 0.1, 1, 10, 100, 1000 ]\n",
        "for c in Cs:\n",
        "    lin_clf = svm.LinearSVC(multi_class='ovr', dual = False, C = c)\n",
        "    lin_clf.fit(d2_train_dataset, np.ravel(y_train_s,order='C'))\n",
        "    pre_svm = lin_clf.predict(d2_test_dataset)\n",
        "    accr_svm = lin_clf.score(d2_test_dataset, np.ravel(y_test_s,order='C'))\n",
        "    Accurs_svm.append(accr_svm)\n",
        "    print('At C= ', c)\n",
        "    print(\"Accuracy =\", accr_svm)"
      ]
    },
    {
      "cell_type": "code",
      "execution_count": null,
      "metadata": {
        "colab": {
          "base_uri": "https://localhost:8080/"
        },
        "id": "UyIcddBeqmbc",
        "outputId": "45497751-a9d6-4790-8768-58f65e5a040c"
      },
      "outputs": [
        {
          "data": {
            "text/plain": [
              "[0.158, 0.2425, 0.255, 0.2915, 0.3405, 0.369, 0.3785, 0.359]"
            ]
          },
          "execution_count": 102,
          "metadata": {},
          "output_type": "execute_result"
        }
      ],
      "source": [
        "# Accuracies at different Cs.\n",
        "Accurs_svm"
      ]
    },
    {
      "cell_type": "code",
      "execution_count": null,
      "metadata": {
        "colab": {
          "base_uri": "https://localhost:8080/",
          "height": 425
        },
        "id": "sgJHgdOAl7PJ",
        "outputId": "52e74b24-de45-42f5-ce1b-89c3dbf606fe"
      },
      "outputs": [
        {
          "name": "stdout",
          "output_type": "stream",
          "text": [
            "Maximum Accuracy:- 0.3785 at C = 100\n"
          ]
        },
        {
          "data": {
            "image/png": "[encoded data removed]",
            "text/plain": [
              "<Figure size 720x432 with 1 Axes>"
            ]
          },
          "metadata": {},
          "output_type": "display_data"
        }
      ],
      "source": [
        "# Accuracies vs C values plot.\n",
        "\n",
        "plt.figure(figsize=(10,6))\n",
        "plt.plot(Cs,Accurs_svm,color='blue', linestyle='dashed', \n",
        "         marker='o',markerfacecolor='red', markersize=10)\n",
        "plt.title('Accuracy vs. C Value')\n",
        "plt.xlabel('C')\n",
        "plt.ylabel('Accuracy')\n",
        "plt.xscale('log')\n",
        "\n",
        "print(\"Maximum Accuracy:-\",max(Accurs_svm),\"at C =\",Cs[Accurs_svm.index(max(Accurs_svm))])"
      ]
    },
    {
      "cell_type": "markdown",
      "metadata": {
        "id": "9LD-7rfLeqiF"
      },
      "source": [
        " ## L1 regularization"
      ]
    },
    {
      "cell_type": "code",
      "execution_count": null,
      "metadata": {
        "colab": {
          "base_uri": "https://localhost:8080/"
        },
        "id": "vuiGZ9ycm2fD",
        "outputId": "db8654e0-a168-42e8-c5d1-4060e26370e9"
      },
      "outputs": [
        {
          "name": "stdout",
          "output_type": "stream",
          "text": [
            "At C=  0.0001\n",
            "Accuracy = 0.1\n",
            "At C=  0.001\n",
            "Accuracy = 0.173\n",
            "At C=  0.01\n",
            "Accuracy = 0.3325\n",
            "At C=  0.1\n",
            "Accuracy = 0.3705\n",
            "At C=  1\n",
            "Accuracy = 0.315\n",
            "At C=  10\n",
            "Accuracy = 0.2935\n",
            "At C=  100\n",
            "Accuracy = 0.289\n",
            "At C=  1000\n",
            "Accuracy = 0.288\n"
          ]
        }
      ],
      "source": [
        "Accurs_svm_reg = []\n",
        "Cs = [0.0001, 0.001, 0.01, 0.1, 1, 10, 100, 1000]\n",
        "for c in Cs:\n",
        "    lin_clf = svm.LinearSVC(multi_class='ovr', dual = False, penalty='l1', C = c)\n",
        "    lin_clf.fit(d2_train_dataset, np.ravel(y_train_s,order='C'))\n",
        "    pre_svm_reg = lin_clf.predict(d2_test_dataset)\n",
        "    accr_svm_reg = lin_clf.score(d2_test_dataset, np.ravel(y_test_s,order='C'))\n",
        "    Accurs_svm_reg.append(accr_svm_reg)\n",
        "    print('At C= ', c)\n",
        "    print(\"Accuracy =\", accr_svm_reg)\n"
      ]
    },
    {
      "cell_type": "code",
      "execution_count": null,
      "metadata": {
        "colab": {
          "base_uri": "https://localhost:8080/",
          "height": 426
        },
        "id": "GBdwGGZCtOAx",
        "outputId": "0a3dfad2-2f77-4703-c4c4-0e04b49b49e2"
      },
      "outputs": [
        {
          "name": "stdout",
          "output_type": "stream",
          "text": [
            "Maximum Accuracy:- 0.3705 at C = 0.1\n"
          ]
        },
        {
          "data": {
            "image/png": "[encoded data removed]",
            "text/plain": [
              "<Figure size 720x432 with 1 Axes>"
            ]
          },
          "metadata": {
            "needs_background": "light"
          },
          "output_type": "display_data"
        }
      ],
      "source": [
        "plt.figure(figsize=(10,6))\n",
        "\n",
        "plt.plot(Cs,Accurs_svm_reg,color='blue', linestyle='dashed', \n",
        "         marker='o',markerfacecolor='red', markersize=10)\n",
        "\n",
        "plt.title('Accuracy vs. C Value')\n",
        "plt.xlabel('C')\n",
        "plt.ylabel('Accuracy')\n",
        "plt.xscale('log')\n",
        "\n",
        "print(\"Maximum Accuracy:-\",max(Accurs_svm_reg),\"at C =\",Cs[Accurs_svm_reg.index(max(Accurs_svm_reg))])"
      ]
    },
    {
      "cell_type": "markdown",
      "metadata": {
        "id": "A73DB19CeyY9"
      },
      "source": [
        "## Cost and gamma different values"
      ]
    },
    {
      "cell_type": "code",
      "source": [
        "from sklearn.svm import SVC"
      ],
      "metadata": {
        "id": "zfjlYfg01w6j"
      },
      "execution_count": null,
      "outputs": []
    },
    {
      "cell_type": "code",
      "execution_count": null,
      "metadata": {
        "id": "Nqul2sPqzO5k",
        "colab": {
          "base_uri": "https://localhost:8080/"
        },
        "outputId": "b7c811f5-e14e-48db-c988-5cf21ad0f1c9"
      },
      "outputs": [
        {
          "output_type": "stream",
          "name": "stdout",
          "text": [
            "At C=  0.01 and At gamma = 0.01\n",
            "Accuracy = 0.259\n",
            "At C=  0.01 and At gamma = 0.1\n",
            "Accuracy = 0.1055\n",
            "At C=  0.01 and At gamma = 1\n",
            "Accuracy = 0.1015\n",
            "At C=  0.01 and At gamma = 10\n",
            "Accuracy = 0.212\n",
            "At C=  0.01 and At gamma = 100\n",
            "Accuracy = 0.1\n",
            "At C=  0.1 and At gamma = 0.01\n",
            "Accuracy = 0.3615\n",
            "At C=  0.1 and At gamma = 0.1\n",
            "Accuracy = 0.1055\n",
            "At C=  0.1 and At gamma = 1\n",
            "Accuracy = 0.1015\n",
            "At C=  0.1 and At gamma = 10\n",
            "Accuracy = 0.2125\n",
            "At C=  0.1 and At gamma = 100\n",
            "Accuracy = 0.1\n",
            "At C=  1 and At gamma = 0.01\n",
            "Accuracy = 0.476\n",
            "At C=  1 and At gamma = 0.1\n",
            "Accuracy = 0.1725\n",
            "At C=  1 and At gamma = 1\n",
            "Accuracy = 0.1025\n",
            "At C=  1 and At gamma = 10\n",
            "Accuracy = 0.213\n",
            "At C=  1 and At gamma = 100\n",
            "Accuracy = 0.1\n",
            "At C=  10 and At gamma = 0.01\n",
            "Accuracy = 0.465\n",
            "At C=  10 and At gamma = 0.1\n",
            "Accuracy = 0.189\n",
            "At C=  10 and At gamma = 1\n",
            "Accuracy = 0.103\n",
            "At C=  10 and At gamma = 10\n",
            "Accuracy = 0.213\n",
            "At C=  10 and At gamma = 100\n",
            "Accuracy = 0.1\n",
            "At C=  100 and At gamma = 0.01\n",
            "Accuracy = 0.4665\n",
            "At C=  100 and At gamma = 0.1\n",
            "Accuracy = 0.189\n",
            "At C=  100 and At gamma = 1\n",
            "Accuracy = 0.103\n",
            "At C=  100 and At gamma = 10\n",
            "Accuracy = 0.213\n",
            "At C=  100 and At gamma = 100\n",
            "Accuracy = 0.1\n"
          ]
        }
      ],
      "source": [
        "\n",
        "Accurs_svm_gC = []\n",
        "for cost in [0.01, 0.1, 1, 10, 100]:\n",
        "  for gamma in [0.01, 0.1, 1, 10, 100]:\n",
        "      lin_clf = SVC(gamma=gamma, C = cost)\n",
        "      lin_clf.fit(d2_train_dataset, np.ravel(y_train_s,order='C'))\n",
        "      pre_svm = lin_clf.predict(d2_test_dataset)\n",
        "      accr_svm = lin_clf.score(d2_test_dataset, np.ravel(y_test_s,order='C'))\n",
        "      Accurs_svm_gC.append(accr_svm)\n",
        "      print('At C= ', cost, 'and At gamma =', gamma)\n",
        "      print(\"Accuracy =\", accr_svm)"
      ]
    },
    {
      "cell_type": "markdown",
      "source": [
        "* I choose the maximum accuracy from each gamma and C values combinations."
      ],
      "metadata": {
        "id": "K9F6UCOs041s"
      }
    },
    {
      "cell_type": "code",
      "execution_count": null,
      "metadata": {
        "id": "dMzr6BriLMQ-",
        "colab": {
          "base_uri": "https://localhost:8080/",
          "height": 426
        },
        "outputId": "af74b4a9-676d-44e4-85a2-fc7fbbe34685"
      },
      "outputs": [
        {
          "output_type": "stream",
          "name": "stdout",
          "text": [
            "Maximum Accuracy:- 0.476 at C = 1\n"
          ]
        },
        {
          "output_type": "display_data",
          "data": {
            "text/plain": [
              "<Figure size 720x432 with 1 Axes>"
            ],
            "image/png": "[encoded data removed]"
          },
          "metadata": {
            "needs_background": "light"
          }
        }
      ],
      "source": [
        "plt.figure(figsize=(10,6))\n",
        "Accurs_svm_gC_best = [.259, 0.3615, 0.476, 0.465, 0.4665]\n",
        "Cs = [0.01, 0.1, 1, 10, 100]\n",
        "plt.plot([0.01, 0.1, 1, 10, 100],Accurs_svm_gC_best,color='blue', linestyle='dashed', \n",
        "         marker='o',markerfacecolor='red', markersize=10)\n",
        "\n",
        "plt.title('Accuracy vs. C Value')\n",
        "plt.xlabel('C')\n",
        "plt.ylabel('Accuracy')\n",
        "plt.xscale('log')\n",
        "\n",
        "print(\"Maximum Accuracy:-\",max(Accurs_svm_gC_best),\"at C =\",Cs[Accurs_svm_gC_best.index(max(Accurs_svm_gC_best))])"
      ]
    },
    {
      "cell_type": "markdown",
      "source": [
        "## Confuion matrix"
      ],
      "metadata": {
        "id": "RaqoT5Zd0hQZ"
      }
    },
    {
      "cell_type": "markdown",
      "source": [
        "### The model with best accuracy  "
      ],
      "metadata": {
        "id": "QR9cpRuU0lnN"
      }
    },
    {
      "cell_type": "code",
      "source": [
        "lin_clf = SVC(gamma=.01, C = 1)\n",
        "lin_clf.fit(d2_train_dataset, np.ravel(y_train_s,order='C'))\n",
        "pre_svm_best = lin_clf.predict(d2_test_dataset)\n",
        "accr_svm_best = lin_clf.score(d2_test_dataset, np.ravel(y_test_s,order='C'))"
      ],
      "metadata": {
        "id": "vyXhwQNG0hEC"
      },
      "execution_count": null,
      "outputs": []
    },
    {
      "cell_type": "code",
      "source": [
        "accr_svm_best"
      ],
      "metadata": {
        "colab": {
          "base_uri": "https://localhost:8080/"
        },
        "id": "N_xXruka3lCb",
        "outputId": "0e749ac6-198b-4a57-9325-70d9bfa3a4a3"
      },
      "execution_count": null,
      "outputs": [
        {
          "output_type": "execute_result",
          "data": {
            "text/plain": [
              "0.476"
            ]
          },
          "metadata": {},
          "execution_count": 31
        }
      ]
    },
    {
      "cell_type": "code",
      "source": [
        "confusion_matrix = metrics.confusion_matrix(y_test_s, pre_svm_best)\n",
        "\n",
        "cm_display = metrics.ConfusionMatrixDisplay(confusion_matrix = confusion_matrix, display_labels = np.unique(y_test_s))\n",
        "\n",
        "cm_display.plot()\n",
        "plt.title('Confusion Matrix for cifar10')\n",
        "plt.show()"
      ],
      "metadata": {
        "colab": {
          "base_uri": "https://localhost:8080/",
          "height": 295
        },
        "id": "OnQo3mTZ3mhn",
        "outputId": "4bc9f5b1-eeca-4672-a92d-ffa9c92ecd8d"
      },
      "execution_count": null,
      "outputs": [
        {
          "output_type": "display_data",
          "data": {
            "text/plain": [
              "<Figure size 432x288 with 2 Axes>"
            ],
            "image/png": "[encoded data removed]"
          },
          "metadata": {
            "needs_background": "light"
          }
        }
      ]
    },
    {
      "cell_type": "markdown",
      "source": [
        "* We have 200 value for each class, The confuison matrix says that the model is able to predict the class eight better than other classes as it manages to predict 129 images correctly, and managed to predict 125 imagess of 9 class correctly.\n",
        "\n",
        "* But the other classes correct predict was less than the half of the total values in a single class.\n",
        "\n",
        "* The class that the model was confused with the most is class 3, as it only manages to predict 66 images."
      ],
      "metadata": {
        "id": "XM1huwi1V3lg"
      }
    },
    {
      "cell_type": "markdown",
      "source": [
        "## Conclusion\n",
        "In this part we used SVM from SCikit-learn, which can handel multiclass classification,\n",
        "I make different experience:\n",
        "* Build a baseline modsel using LinearSVC() function, and its output was 28.15%\n",
        "* Then I used different values for cost parameter and explore the effect of it on the model accuracy, and find out:\n",
        "  --> The best accuracy is 37.85% when C = 100, and show the plot of accuracy vs. C-parameter.\n",
        "  --> I plot the results as an accuracy vs. C-parameter curve on a logarithmic scale\n",
        "\n",
        "* In another experiment, I add L1 regularization, and plot the find out that the best accuracy reached 37.05%, which shows no improvement.\n",
        "  --> again, I plot the results as an accuracy vs. C-parameter curve on a logarithmic scale.\n",
        "\n",
        "* In the final experiment, I used different combination of cost and gamma,\n",
        "  --> I draw the confuision matrix for the prediction of model that has the best performance.\n",
        "  and plot the results as an accuracy vs. C-parameter curve on a logarithmic scale.\n",
        "  --> find out that the best combination is when gamma = .01 and C= 1"
      ],
      "metadata": {
        "id": "_8pDpi6zFn_C"
      }
    },
    {
      "cell_type": "markdown",
      "metadata": {
        "id": "pTyPwN-YGD-K"
      },
      "source": [
        "## Part 4. Write a Conclusion (1 Mark)\n",
        "\n",
        "Write a conclusion comparing the results from each part of the assignment. Comment on the suitability of each method for this task."
      ]
    },
    {
      "cell_type": "markdown",
      "source": [
        "K-NN:\n",
        "1. With random K = 3, the KNN model with euclidean distance metric, the accuracy = 26.15%.\n",
        "2. After train the model with different values of K, the best accuracy was 29.25% with k = 17.\n",
        "3. The class the model was able to detect the best was class 8.\n",
        "\n",
        "Logistic Regression:\n",
        "1. The argmax of all 10 models computed from the OvR has an accuracy = 28.45, which is worse than KNN.\n",
        "2. The class the model was able to detect the best was class 6.\n",
        "\n",
        "SVM:\n",
        "1. The baseline model (LinearSVC()) has accuracy = 28.15 which is worse than the previous models.\n",
        "2. When training differnt values of C, the best accuracy was = 37.58, at C = 100, which is better than the previous models.\n",
        "3. By adding L1 regularization, and train with different values of C, the best accuracy was = 37.05, at C = .1, which is worse than before using it.\n",
        "4. When exploring the differnt values of Cost and gamma, the best accuracy was = 47.6, at C = 1 and gamma = .01, which is worse than before using it.\n",
        "\n",
        "\n",
        "--> I also add comments after each part above."
      ],
      "metadata": {
        "id": "wGr1-pzmj4se"
      }
    },
    {
      "cell_type": "markdown",
      "metadata": {
        "id": "NZyFUQWSGD-K"
      },
      "source": [
        "<!-- Write your conclusion here -->"
      ]
    }
  ],
  "metadata": {
    "colab": {
      "provenance": []
    },
    "interpreter": {
      "hash": "f29ff496c4975542d1ca3f875208135529fae10fbd9e5dbdc796e5f81fffc359"
    },
    "kernelspec": {
      "display_name": "Python 3 (ipykernel)",
      "language": "python",
      "name": "python3"
    },
    "language_info": {
      "codemirror_mode": {
        "name": "ipython",
        "version": 3
      },
      "file_extension": ".py",
      "mimetype": "text/x-python",
      "name": "python",
      "nbconvert_exporter": "python",
      "pygments_lexer": "ipython3",
      "version": "3.8.2"
    }
  },
  "nbformat": 4,
  "nbformat_minor": 0
}